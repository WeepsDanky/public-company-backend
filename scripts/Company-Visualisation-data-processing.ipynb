{
 "cells": [
  {
   "cell_type": "markdown",
   "id": "69cb1e80",
   "metadata": {},
   "source": [
    "# Capital IQ Industry Classification Pre-process"
   ]
  },
  {
   "cell_type": "code",
   "execution_count": 4,
   "id": "1e356f34",
   "metadata": {},
   "outputs": [],
   "source": [
    "import pandas as pd"
   ]
  },
  {
   "cell_type": "code",
   "execution_count": 5,
   "id": "56b7f461",
   "metadata": {},
   "outputs": [],
   "source": [
    "pd.set_option('display.max_colwidth', None)"
   ]
  },
  {
   "cell_type": "code",
   "execution_count": 13,
   "id": "1f9253bb-b445-456a-acd2-e49172e336ba",
   "metadata": {},
   "outputs": [
    {
     "name": "stdout",
     "output_type": "stream",
     "text": [
      "['Financials', 'Health Care', 'Consumer Staples', 'Consumer Discretionary', 'Industrials', 'Communication Services', 'Materials', 'Information Technology', 'Real Estate', 'Energy', 'Utilities', nan]\n"
     ]
    }
   ],
   "source": [
    "def read_excel_and_output(file_path, num_rows=10):\n",
    "    try:\n",
    "        # Read the Excel file into a pandas DataFrame\n",
    "        df = pd.read_excel(file_path, skiprows=1)\n",
    "\n",
    "        # Output the first 10 rows\n",
    "        #print(df.head(num_rows))\n",
    "\n",
    "        return df.head(num_rows)\n",
    "    except Exception as e:\n",
    "        print(f\"An error occurred: {e}\")\n",
    "\n",
    "# Replace 'your_file.xlsx' with the actual file path\n",
    "file_path = 'SPGlobal_Export_US+HK_listed.xlsx'\n",
    "\n",
    "# Call the function with the file path\n",
    "read_excel_and_output(file_path) \n",
    "\n",
    "df = pd.read_excel(file_path, skiprows=1)\n",
    "sectors = []\n",
    "for item in df['IQ_SECTOR']: \n",
    "    if item in sectors: \n",
    "        continue\n",
    "    else: \n",
    "        sectors.append(item)\n",
    "print(sectors) "
   ]
  },
  {
   "cell_type": "code",
   "execution_count": null,
   "id": "512cd057-0d1b-4faf-988d-206f0ba015e4",
   "metadata": {},
   "outputs": [],
   "source": []
  },
  {
   "cell_type": "code",
   "execution_count": null,
   "id": "aaa7760a-72bd-485d-bbe3-ba42befc3e57",
   "metadata": {},
   "outputs": [],
   "source": []
  }
 ],
 "metadata": {
  "kernelspec": {
   "display_name": "Python 3 (ipykernel)",
   "language": "python",
   "name": "python3"
  },
  "language_info": {
   "codemirror_mode": {
    "name": "ipython",
    "version": 3
   },
   "file_extension": ".py",
   "mimetype": "text/x-python",
   "name": "python",
   "nbconvert_exporter": "python",
   "pygments_lexer": "ipython3",
   "version": "3.9.18"
  }
 },
 "nbformat": 4,
 "nbformat_minor": 5
}
